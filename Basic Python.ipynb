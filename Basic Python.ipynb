{
  "nbformat": 4,
  "nbformat_minor": 0,
  "metadata": {
    "colab": {
      "provenance": [],
      "include_colab_link": true
    },
    "kernelspec": {
      "name": "python3",
      "display_name": "Python 3"
    },
    "language_info": {
      "name": "python"
    }
  },
  "cells": [
    {
      "cell_type": "markdown",
      "metadata": {
        "id": "view-in-github",
        "colab_type": "text"
      },
      "source": [
        "<a href=\"https://colab.research.google.com/github/hanarohadah/hanarohadah/blob/main/Basic%20Python.ipynb\" target=\"_parent\"><img src=\"https://colab.research.google.com/assets/colab-badge.svg\" alt=\"Open In Colab\"/></a>"
      ]
    },
    {
      "cell_type": "markdown",
      "metadata": {
        "id": "QZkqsHToIXBE"
      },
      "source": [
        "1.tampilkan output : \"Hallo saya siap belajar bahasa pemprograman python\" dengan menggunakan print()"
      ]
    },
    {
      "cell_type": "code",
      "metadata": {
        "id": "VL__nMv8Igcj",
        "colab": {
          "base_uri": "https://localhost:8080/"
        },
        "outputId": "4ee433ec-eb3d-46c6-e1d9-3f1f550ebb14"
      },
      "source": [
        "#Ketik kode Anda disini\n",
        "print(\"Hallo saya siap belajar bahasa pemrograman python\")"
      ],
      "execution_count": null,
      "outputs": [
        {
          "output_type": "stream",
          "name": "stdout",
          "text": [
            "Hallo saya siap belajar bahasa pemrograman python\n"
          ]
        }
      ]
    },
    {
      "cell_type": "markdown",
      "metadata": {
        "id": "yJzoJsuTI9_s"
      },
      "source": [
        "2.Cek tipe data dari 20/5"
      ]
    },
    {
      "cell_type": "code",
      "metadata": {
        "id": "Jo_79zHnJsyt",
        "colab": {
          "base_uri": "https://localhost:8080/"
        },
        "outputId": "450c38c9-4ef0-4f53-8d8e-ce066c1f3e02"
      },
      "source": [
        "print(type(20/5))"
      ],
      "execution_count": null,
      "outputs": [
        {
          "output_type": "stream",
          "name": "stdout",
          "text": [
            "<class 'float'>\n"
          ]
        }
      ]
    },
    {
      "cell_type": "markdown",
      "metadata": {
        "id": "S-jJVluNJzOr"
      },
      "source": [
        "3.Konversi 0 ke boolean!"
      ]
    },
    {
      "cell_type": "code",
      "metadata": {
        "id": "TMVjAAwrJ3JO",
        "colab": {
          "base_uri": "https://localhost:8080/"
        },
        "outputId": "b23942b3-86d7-4da3-b216-f5d687b2dc33"
      },
      "source": [
        "print(bool(0))"
      ],
      "execution_count": null,
      "outputs": [
        {
          "output_type": "stream",
          "name": "stdout",
          "text": [
            "False\n"
          ]
        }
      ]
    },
    {
      "cell_type": "markdown",
      "metadata": {
        "id": "vZChd92NKKFn"
      },
      "source": [
        "4.Buatlah variabel firstname dan variable lastname dengan nama anda lalu print hasilnya"
      ]
    },
    {
      "cell_type": "code",
      "metadata": {
        "colab": {
          "base_uri": "https://localhost:8080/"
        },
        "id": "DOJV3vYoKYFs",
        "outputId": "ddf5a57d-0bb7-4123-81b7-0a5e00916f79"
      },
      "source": [
        "#Contoh\n",
        "firtsname = 'Muhammad'\n",
        "lastname = 'Naufal'\n",
        "print(\"nama depan:\",firtsname)\n",
        "print(\"nama belakang:\",lastname)"
      ],
      "execution_count": null,
      "outputs": [
        {
          "output_type": "stream",
          "text": [
            "nama depan: Muhammad\n",
            "nama belakang: Naufal\n"
          ],
          "name": "stdout"
        }
      ]
    },
    {
      "cell_type": "code",
      "metadata": {
        "id": "t0fMwtEyKmMV",
        "colab": {
          "base_uri": "https://localhost:8080/"
        },
        "outputId": "a836574e-e86d-4c04-b7bd-bb93d9ac6fe8"
      },
      "source": [
        "#Ketik kode Anda disini\n",
        "firstname = 'Hana'\n",
        "lastname = 'Rohadah'\n",
        "print(\"nama depan\",firstname)\n",
        "print(\"nama belakang\",lastname)"
      ],
      "execution_count": null,
      "outputs": [
        {
          "output_type": "stream",
          "name": "stdout",
          "text": [
            "nama depan Hana\n",
            "nama belakang Rohadah\n"
          ]
        }
      ]
    },
    {
      "cell_type": "markdown",
      "metadata": {
        "id": "KiPL37RlLMCC"
      },
      "source": [
        "5.Buatlah variabel \"a\" berupa angka interger dan variabel \"b\" berupa angka interger (angka bebas)\n",
        "\n",
        "*   print(a+b)\n",
        "*   Lihatlah hasil pembagian a dan b lalu buatlah menjadi interger\n",
        "\n",
        "* print(a*b)\n",
        "* print a pangkat b\n",
        "\n",
        "\n",
        "\n"
      ]
    },
    {
      "cell_type": "code",
      "metadata": {
        "colab": {
          "base_uri": "https://localhost:8080/"
        },
        "id": "8mGQ1ny1LrRz",
        "outputId": "62039558-eda2-4cef-8b89-de8b0d68421b"
      },
      "source": [
        "#Contoh\n",
        "a = 10\n",
        "b = 5\n",
        "print(a+b)\n",
        "print(a/b) #hasil float\n",
        "print(a//b) #hasil interger\n",
        "print(a*b)\n",
        "print(a**b)"
      ],
      "execution_count": null,
      "outputs": [
        {
          "output_type": "stream",
          "text": [
            "15\n",
            "2.0\n",
            "2\n",
            "50\n",
            "100000\n"
          ],
          "name": "stdout"
        }
      ]
    },
    {
      "cell_type": "code",
      "metadata": {
        "id": "NE36njKBMAbe",
        "colab": {
          "base_uri": "https://localhost:8080/"
        },
        "outputId": "b1816492-883b-46c4-dfa2-55a8ccda7fef"
      },
      "source": [
        "a = 7\n",
        "b = 3\n",
        "print(a+b)\n",
        "print(a/b)\n",
        "print (a//b)\n",
        "print(a*b)\n",
        "print(a**b)"
      ],
      "execution_count": null,
      "outputs": [
        {
          "output_type": "stream",
          "name": "stdout",
          "text": [
            "10\n",
            "2.3333333333333335\n",
            "2\n",
            "21\n",
            "343\n"
          ]
        }
      ]
    },
    {
      "cell_type": "markdown",
      "metadata": {
        "id": "G707w1zFMPqM"
      },
      "source": [
        "6.Hitunglah total harga dari 3 buah penghapus seharga 3500, 5 buah buku seharga 25000"
      ]
    },
    {
      "cell_type": "code",
      "metadata": {
        "id": "l4JgLjrXMctB",
        "colab": {
          "base_uri": "https://localhost:8080/"
        },
        "outputId": "523d77a1-d10a-44da-9d2f-d5590177b127"
      },
      "source": [
        "penghapus = 3\n",
        "harga_penghapus = 3500\n",
        "buku = 5\n",
        "harga_buku = 25000\n",
        "\n",
        "total_harga_penghapus = (penghapus*harga_penghapus)\n",
        "total_harga_buku = (buku*harga_buku)\n",
        "\n",
        "print(f\"Harga {penghapus} penghapus adalah {total_harga_penghapus}\")\n",
        "print(f\"Harga {buku} buku adalah {total_harga_buku}\")\n",
        "print(f\"Total semuanya adalah {total_harga_penghapus+total_harga_buku}\")"
      ],
      "execution_count": null,
      "outputs": [
        {
          "output_type": "stream",
          "name": "stdout",
          "text": [
            "Harga 3 penghapus adalah 10500\n",
            "Harga 5 buku adalah 125000\n",
            "Total semuanya adalah 135500\n"
          ]
        }
      ]
    },
    {
      "cell_type": "markdown",
      "metadata": {
        "id": "qAkUoD9qMitv"
      },
      "source": [
        "7.Harga sebuah barang adalah 750000, hitunglah harga barang setelah mendapat potongan harga 45%!"
      ]
    },
    {
      "cell_type": "code",
      "metadata": {
        "id": "TlMUZ3hOMxKZ",
        "colab": {
          "base_uri": "https://localhost:8080/"
        },
        "outputId": "04d2d42b-f714-4b68-c95f-b769eea7918d"
      },
      "source": [
        "Harga_barang = 750000\n",
        "diskon = 45/100\n",
        "Potongan_diskon = diskon*Harga_barang\n",
        "print(f\"Harga barang setelah diskon adalah Rp. {Harga_barang-Potongan_diskon}\")"
      ],
      "execution_count": null,
      "outputs": [
        {
          "output_type": "stream",
          "name": "stdout",
          "text": [
            "Harga barang setelah diskon adalah Rp. 412500.0\n"
          ]
        }
      ]
    },
    {
      "cell_type": "markdown",
      "metadata": {
        "id": "aHKYhHygNu8I"
      },
      "source": [
        "8.Ambil indeks ke 2 dari string \"Python itu asik\""
      ]
    },
    {
      "cell_type": "code",
      "metadata": {
        "colab": {
          "base_uri": "https://localhost:8080/",
          "height": 35
        },
        "id": "oFtZHLMqN6M1",
        "outputId": "bc03382d-4f1b-42d1-ecac-6b3d87dffd5e"
      },
      "source": [
        "#contoh indexing\n",
        "teks = 'Belajar itu asik'\n",
        "teks[2] #ambil index ke 2"
      ],
      "execution_count": null,
      "outputs": [
        {
          "output_type": "execute_result",
          "data": {
            "application/vnd.google.colaboratory.intrinsic+json": {
              "type": "string"
            },
            "text/plain": [
              "'l'"
            ]
          },
          "metadata": {
            "tags": []
          },
          "execution_count": 5
        }
      ]
    },
    {
      "cell_type": "code",
      "metadata": {
        "id": "X22YzUF-OEF1",
        "colab": {
          "base_uri": "https://localhost:8080/"
        },
        "outputId": "593cc9e0-7677-4529-e8e5-ad1e28194245"
      },
      "source": [
        "teks = 'Python itu asik'\n",
        "karakter = teks [2]\n",
        "print(f\"Karakter di indeks ke-2 adalah {karakter}\")"
      ],
      "execution_count": null,
      "outputs": [
        {
          "output_type": "stream",
          "name": "stdout",
          "text": [
            "Karakter di indeks ke-2 adalah t\n"
          ]
        }
      ]
    },
    {
      "cell_type": "markdown",
      "metadata": {
        "id": "lX7AhImSOqhK"
      },
      "source": [
        "9.Ambil kata \"yuk\" dari string \"ayuk\""
      ]
    },
    {
      "cell_type": "code",
      "metadata": {
        "id": "ZM-A2IIgPaue",
        "colab": {
          "base_uri": "https://localhost:8080/"
        },
        "outputId": "e59ac04c-c566-4e13-bee1-26b48a9f0ed7"
      },
      "source": [
        "teks = 'ayuk'\n",
        "karakter = teks [1:4]\n",
        "\n",
        "print (karakter)"
      ],
      "execution_count": null,
      "outputs": [
        {
          "output_type": "stream",
          "name": "stdout",
          "text": [
            "yuk\n"
          ]
        }
      ]
    },
    {
      "cell_type": "markdown",
      "metadata": {
        "id": "Dizc75FGPdan"
      },
      "source": [
        "10.Keluarkan output \"Akhirnya selesai\""
      ]
    },
    {
      "cell_type": "code",
      "metadata": {
        "id": "8mkqGBggTrru",
        "colab": {
          "base_uri": "https://localhost:8080/"
        },
        "outputId": "5bfd3b25-e7fc-4e53-c36f-479698a83d45"
      },
      "source": [
        "print(\"Akhirnya Selesai\")"
      ],
      "execution_count": null,
      "outputs": [
        {
          "output_type": "stream",
          "name": "stdout",
          "text": [
            "Akhirnya Selesai\n"
          ]
        }
      ]
    },
    {
      "cell_type": "markdown",
      "metadata": {
        "id": "tJGp7bzBTcmD"
      },
      "source": [
        "11.Gabungkan list a = [1,'hallo', 2,3] dengan list b = ['pagi', 1000]"
      ]
    },
    {
      "cell_type": "code",
      "metadata": {
        "colab": {
          "base_uri": "https://localhost:8080/"
        },
        "id": "VYYsGB7STtkS",
        "outputId": "3cfe12c5-727b-4b2a-e79a-4553f1683da1"
      },
      "source": [
        "#Cara gabungkan list\n",
        "a = ['test',1,2]\n",
        "b = [3,4,5]\n",
        "a+b"
      ],
      "execution_count": null,
      "outputs": [
        {
          "output_type": "execute_result",
          "data": {
            "text/plain": [
              "['test', 1, 2, 3, 4, 5]"
            ]
          },
          "metadata": {
            "tags": []
          },
          "execution_count": 1
        }
      ]
    },
    {
      "cell_type": "code",
      "metadata": {
        "id": "I-zvuQfOT4Sj",
        "colab": {
          "base_uri": "https://localhost:8080/"
        },
        "outputId": "0451c405-aedd-4fe7-c97c-65a409460a87"
      },
      "source": [
        "a = [1, \"hallo\", 2, 3]\n",
        "b = [\"pagi\", 1000]\n",
        "\n",
        "print(a+b)\n"
      ],
      "execution_count": null,
      "outputs": [
        {
          "output_type": "stream",
          "name": "stdout",
          "text": [
            "[1, 'hallo', 2, 3, 'pagi', 1000]\n"
          ]
        }
      ]
    },
    {
      "cell_type": "markdown",
      "metadata": {
        "id": "zvOONx8CUEn-"
      },
      "source": [
        "12.Buatlah sebuah list new_list yang berisi indonesia, True, 7, [1, 2, 3], 1.5"
      ]
    },
    {
      "cell_type": "code",
      "metadata": {
        "colab": {
          "base_uri": "https://localhost:8080/"
        },
        "id": "41mlRcYPUKGi",
        "outputId": "f9f616d1-fc4d-4c5d-faaa-9479a01ac537"
      },
      "source": [
        "#Cara buat nested list\n",
        "contoh = ['malaysia',True,[9,8,7],2.5] #isi list hanya contoh\n",
        "contoh"
      ],
      "execution_count": null,
      "outputs": [
        {
          "output_type": "execute_result",
          "data": {
            "text/plain": [
              "['malaysia', True, [9, 8, 7], 2.5]"
            ]
          },
          "metadata": {
            "tags": []
          },
          "execution_count": 7
        }
      ]
    },
    {
      "cell_type": "code",
      "metadata": {
        "id": "qNG2duabUWiT",
        "colab": {
          "base_uri": "https://localhost:8080/"
        },
        "outputId": "fbbe6cd5-b843-4ab2-c503-8b661fdf1805"
      },
      "source": [
        "a = ['Indonesia', 'True', 7, [1, 2, 3], 1.5]\n",
        "print (a)\n"
      ],
      "execution_count": null,
      "outputs": [
        {
          "output_type": "stream",
          "name": "stdout",
          "text": [
            "['Indonesia', 'True', 7, [1, 2, 3], 1.5]\n"
          ]
        }
      ]
    },
    {
      "cell_type": "markdown",
      "metadata": {
        "id": "Kz4cQ_ffWt4a"
      },
      "source": [
        "13.Ambil elemen list pada indeks 2 dari list new_list"
      ]
    },
    {
      "cell_type": "code",
      "metadata": {
        "colab": {
          "base_uri": "https://localhost:8080/"
        },
        "id": "Y_QFsEGpW372",
        "outputId": "24b32854-1efa-44dd-c7f2-365191224e94"
      },
      "source": [
        "#Contoh indexing list indeks\n",
        "contoh = ['malaysia',True,[9,8,7],2.5] #isi list hanya contoh\n",
        "contoh[2]\n"
      ],
      "execution_count": null,
      "outputs": [
        {
          "output_type": "execute_result",
          "data": {
            "text/plain": [
              "[9, 8, 7]"
            ]
          },
          "metadata": {},
          "execution_count": 4
        }
      ]
    },
    {
      "cell_type": "code",
      "metadata": {
        "id": "GXIydlKkXMEX",
        "colab": {
          "base_uri": "https://localhost:8080/"
        },
        "outputId": "7f78aaf3-6465-4352-b1a9-78fe47957061"
      },
      "source": [
        "new_list = ['Indonesia', 'True', 7, [1, 2, 3], 1.5]\n",
        "print(new_list[2])"
      ],
      "execution_count": null,
      "outputs": [
        {
          "output_type": "stream",
          "name": "stdout",
          "text": [
            "7\n"
          ]
        }
      ]
    },
    {
      "cell_type": "markdown",
      "metadata": {
        "id": "z-uNrdLwXE1h"
      },
      "source": [
        "14.Ambil elemen list pada indeks 1, 2, 3 dari list new_list !"
      ]
    },
    {
      "cell_type": "code",
      "metadata": {
        "colab": {
          "base_uri": "https://localhost:8080/"
        },
        "id": "OAoJC-78XKPv",
        "outputId": "4de09755-adc5-4356-b4af-697e08d73070"
      },
      "source": [
        "#cara slicing\n",
        "contoh[1:4]"
      ],
      "execution_count": null,
      "outputs": [
        {
          "output_type": "execute_result",
          "data": {
            "text/plain": [
              "[True, [9, 8, 7], 2.5]"
            ]
          },
          "metadata": {
            "tags": []
          },
          "execution_count": 6
        }
      ]
    },
    {
      "cell_type": "code",
      "metadata": {
        "id": "J9pYOpgUXwo-",
        "colab": {
          "base_uri": "https://localhost:8080/"
        },
        "outputId": "6d8117d1-192b-46dc-d310-ebc2b8907f51"
      },
      "source": [
        "a = [True, [9, 8, 7], 2.5]\n",
        "\n",
        "print(a[1:4])"
      ],
      "execution_count": null,
      "outputs": [
        {
          "output_type": "stream",
          "name": "stdout",
          "text": [
            "[[9, 8, 7], 2.5]\n"
          ]
        }
      ]
    },
    {
      "cell_type": "markdown",
      "metadata": {
        "id": "0fcN_rKHX7Yl"
      },
      "source": [
        "15.Hapus 1.5 pada list new_list"
      ]
    },
    {
      "cell_type": "code",
      "metadata": {
        "colab": {
          "base_uri": "https://localhost:8080/"
        },
        "id": "QWa4PUPIYHa7",
        "outputId": "5b0fc3c1-1b67-4c23-9e46-e4238ad369c1"
      },
      "source": [
        "#cara hapus isi list\n",
        "contoh.remove(2.5)\n",
        "contoh"
      ],
      "execution_count": null,
      "outputs": [
        {
          "output_type": "execute_result",
          "data": {
            "text/plain": [
              "['malaysia', True, [9, 8, 7]]"
            ]
          },
          "metadata": {
            "tags": []
          },
          "execution_count": 15
        }
      ]
    },
    {
      "cell_type": "code",
      "metadata": {
        "id": "kDuUKBQsZLjA",
        "colab": {
          "base_uri": "https://localhost:8080/"
        },
        "outputId": "2291567a-56d6-44dc-b048-61d264cacda8"
      },
      "source": [
        "a = ['malaysia', True, [9, 8, 7],2.5]\n",
        "a.remove(2.5)\n",
        "print(a)\n"
      ],
      "execution_count": null,
      "outputs": [
        {
          "output_type": "stream",
          "name": "stdout",
          "text": [
            "['malaysia', True, [9, 8, 7]]\n"
          ]
        }
      ]
    },
    {
      "cell_type": "code",
      "metadata": {
        "id": "NO1G4ZoxYfMC"
      },
      "source": [],
      "execution_count": null,
      "outputs": []
    },
    {
      "cell_type": "markdown",
      "metadata": {
        "id": "ZR3opKnqPhsW"
      },
      "source": [
        "-Selamat mengerjakan-\n",
        "\n"
      ]
    }
  ]
}